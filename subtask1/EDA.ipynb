{
 "cells": [
  {
   "cell_type": "code",
   "execution_count": 2,
   "metadata": {},
   "outputs": [],
   "source": [
    "import pandas as pd\n",
    "from config import CFG\n",
    "\n",
    "df = pd.read_csv(CFG.TRAIN_DF_PATH)"
   ]
  },
  {
   "cell_type": "code",
   "execution_count": 9,
   "metadata": {},
   "outputs": [
    {
     "data": {
      "text/html": [
       "<div>\n",
       "<style scoped>\n",
       "    .dataframe tbody tr th:only-of-type {\n",
       "        vertical-align: middle;\n",
       "    }\n",
       "\n",
       "    .dataframe tbody tr th {\n",
       "        vertical-align: top;\n",
       "    }\n",
       "\n",
       "    .dataframe thead th {\n",
       "        text-align: right;\n",
       "    }\n",
       "</style>\n",
       "<table border=\"1\" class=\"dataframe\">\n",
       "  <thead>\n",
       "    <tr style=\"text-align: right;\">\n",
       "      <th></th>\n",
       "      <th>image_name</th>\n",
       "      <th>BBox_xmin</th>\n",
       "      <th>BBox_ymin</th>\n",
       "      <th>BBox_xmax</th>\n",
       "      <th>BBox_ymax</th>\n",
       "      <th>Daily</th>\n",
       "      <th>Gender</th>\n",
       "      <th>Embellishment</th>\n",
       "    </tr>\n",
       "  </thead>\n",
       "  <tbody>\n",
       "    <tr>\n",
       "      <th>0</th>\n",
       "      <td>1209/BO00001-1.jpg</td>\n",
       "      <td>45</td>\n",
       "      <td>197</td>\n",
       "      <td>313</td>\n",
       "      <td>393</td>\n",
       "      <td>4</td>\n",
       "      <td>4</td>\n",
       "      <td>0</td>\n",
       "    </tr>\n",
       "    <tr>\n",
       "      <th>1</th>\n",
       "      <td>1209/BO00002-1.jpg</td>\n",
       "      <td>117</td>\n",
       "      <td>114</td>\n",
       "      <td>476</td>\n",
       "      <td>556</td>\n",
       "      <td>1</td>\n",
       "      <td>4</td>\n",
       "      <td>1</td>\n",
       "    </tr>\n",
       "    <tr>\n",
       "      <th>2</th>\n",
       "      <td>1209/BO00003-1.jpg</td>\n",
       "      <td>62</td>\n",
       "      <td>212</td>\n",
       "      <td>372</td>\n",
       "      <td>544</td>\n",
       "      <td>1</td>\n",
       "      <td>4</td>\n",
       "      <td>0</td>\n",
       "    </tr>\n",
       "    <tr>\n",
       "      <th>3</th>\n",
       "      <td>1209/BO00004-1.jpg</td>\n",
       "      <td>159</td>\n",
       "      <td>17</td>\n",
       "      <td>484</td>\n",
       "      <td>395</td>\n",
       "      <td>1</td>\n",
       "      <td>4</td>\n",
       "      <td>1</td>\n",
       "    </tr>\n",
       "    <tr>\n",
       "      <th>4</th>\n",
       "      <td>1209/BO00005-1.jpg</td>\n",
       "      <td>51</td>\n",
       "      <td>54</td>\n",
       "      <td>561</td>\n",
       "      <td>441</td>\n",
       "      <td>1</td>\n",
       "      <td>2</td>\n",
       "      <td>0</td>\n",
       "    </tr>\n",
       "  </tbody>\n",
       "</table>\n",
       "</div>"
      ],
      "text/plain": [
       "           image_name  BBox_xmin  BBox_ymin  BBox_xmax  BBox_ymax  Daily  \\\n",
       "0  1209/BO00001-1.jpg         45        197        313        393      4   \n",
       "1  1209/BO00002-1.jpg        117        114        476        556      1   \n",
       "2  1209/BO00003-1.jpg         62        212        372        544      1   \n",
       "3  1209/BO00004-1.jpg        159         17        484        395      1   \n",
       "4  1209/BO00005-1.jpg         51         54        561        441      1   \n",
       "\n",
       "   Gender  Embellishment  \n",
       "0       4              0  \n",
       "1       4              1  \n",
       "2       4              0  \n",
       "3       4              1  \n",
       "4       2              0  "
      ]
     },
     "execution_count": 9,
     "metadata": {},
     "output_type": "execute_result"
    }
   ],
   "source": [
    "df.head()"
   ]
  },
  {
   "cell_type": "code",
   "execution_count": 7,
   "metadata": {},
   "outputs": [
    {
     "data": {
      "text/plain": [
       "Gender\n",
       "3    4288\n",
       "1    2759\n",
       "2    2703\n",
       "0     930\n",
       "4     523\n",
       "Name: count, dtype: int64"
      ]
     },
     "execution_count": 7,
     "metadata": {},
     "output_type": "execute_result"
    }
   ],
   "source": [
    "import matplotlib.pyplot as plt\n",
    "\n",
    "df['Gender'].value_counts()"
   ]
  },
  {
   "cell_type": "code",
   "execution_count": 10,
   "metadata": {},
   "outputs": [
    {
     "data": {
      "text/plain": [
       "Daily\n",
       "1    6852\n",
       "3    1683\n",
       "2    1065\n",
       "0     589\n",
       "4     572\n",
       "5     442\n",
       "Name: count, dtype: int64"
      ]
     },
     "execution_count": 10,
     "metadata": {},
     "output_type": "execute_result"
    }
   ],
   "source": [
    "df['Daily'].value_counts()"
   ]
  },
  {
   "cell_type": "code",
   "execution_count": 11,
   "metadata": {},
   "outputs": [
    {
     "data": {
      "text/plain": [
       "Embellishment\n",
       "0    6177\n",
       "1    3323\n",
       "2    1703\n",
       "Name: count, dtype: int64"
      ]
     },
     "execution_count": 11,
     "metadata": {},
     "output_type": "execute_result"
    }
   ],
   "source": [
    "df['Embellishment'].value_counts()"
   ]
  }
 ],
 "metadata": {
  "kernelspec": {
   "display_name": "fashion-how",
   "language": "python",
   "name": "python3"
  },
  "language_info": {
   "codemirror_mode": {
    "name": "ipython",
    "version": 3
   },
   "file_extension": ".py",
   "mimetype": "text/x-python",
   "name": "python",
   "nbconvert_exporter": "python",
   "pygments_lexer": "ipython3",
   "version": "3.11.8"
  }
 },
 "nbformat": 4,
 "nbformat_minor": 2
}
