{
 "cells": [
  {
   "cell_type": "markdown",
   "id": "6ff05135",
   "metadata": {},
   "source": [
    "## sub-task 1 제출 스크립트\n",
    "ETRI FASHION-HOW Season 5 task1 제출코드입니다.\n",
    "#### 주의: 반드시 본 파일을 이용하여 제출을 수행해야 하며 파일의 이름은 task.ipynb로 유지되어야 합니다.\n",
    "- 작성하신 추론용 코드(예: test.py)를 본 스크립트 내의 etri_task1_submit() 함수로 작동되게끔 삽입하는 것으로 결과 제출을 수행할 수 있습니다.\n",
    "코드는 크게 4가지 파트로 구성되며, 해당 파트의 특성을 지켜서 내용을 편집하시면 되겠습니다.\n",
    "1. 제출용 aifactory 라이브러리 설치\n",
    "2. etri_task1_submit() 함수 편집 (추론 스크립트)\n",
    "3. submit() 함수로 wrapping\n",
    "4. if __name__ == \"__main__\" 조건문을 이용한 제출 수행\n",
    "\n",
    "※ 가능하면 제출시에는 포함되어 있는 train data를 폴더에서 제외하고 제출하시는 편이 좋습니다.\n",
    "- 파일 크기 감소 → 업로드 시간 감소 → 전체 추론 수행 시간 감소"
   ]
  },
  {
   "cell_type": "markdown",
   "id": "33268b01",
   "metadata": {},
   "source": [
    "### 1. 제출용 aifactory 라이브러리 설치\n",
    "#### 결과 전송에 필요하므로 아래와 같이 aifactory 라이브러리가 반드시 최신버전으로 설치될 수 있게끔 합니다"
   ]
  },
  {
   "cell_type": "markdown",
   "id": "5ef113da",
   "metadata": {},
   "source": [
    "### 2. etri_task1_submit() 함수 편집 (추론 스크립트)\n",
    "#### etri_task1_submit() 편집 시 주의사항\n",
    "\n",
    "1. 아래 etri_task1_submit() 함수 내에 전체 추론 실행 코드를 삽입하고 결과를 dataframe으로 return하게끔 구성\n",
    "   - Baseline이 아닌 다른 모델을 사용하는 경우에도 동일\n",
    "2. 함수 내에서는 import * 가 적용되지 않으므로 필요한 import object를 직접 입력\n",
    "   - 반드시 함수 내에서 import가 이루어져야 합니다.\n",
    "3. argparse 사용시 args, _ = parser.parse_known_args()로 인자 지정\n",
    "   args = parser.parse_args()는 jupyter에서 오류가 발생합니다!!!\n",
    "4. 모델 내부의 경로는 ./ 으로 경로를 지정합니다. (예: weight 파일 경로 = ./model/...)\n",
    "5. 데이터는 **/aif/Dataset/** 경로 아래에 있습니다. (코드 내용 참조) \n",
    "6. return할 결과물과 양식에 유의합니다."
   ]
  },
  {
   "cell_type": "code",
   "execution_count": 5,
   "id": "77d05b4d",
   "metadata": {},
   "outputs": [],
   "source": [
    "def etri_task1_submit():\n",
    "\n",
    "    from subtask1.Baseline_dataset import ETRIDataset_emo\n",
    "    from subtask1.model import EVATiny\n",
    "\n",
    "\n",
    "    import pandas as pd\n",
    "    import numpy as np\n",
    "    from sklearn.metrics import confusion_matrix\n",
    "\n",
    "    import torch\n",
    "    import torch.utils.data\n",
    "    import torch.utils.data.distributed\n",
    "\n",
    "    from tqdm import tqdm\n",
    "\n",
    "    DEVICE = torch.device(\"cuda\" if torch.cuda.is_available() else \"cpu\")\n",
    "    \n",
    "    net = EVATiny()\n",
    "    net.load_state_dict(torch.load(\"./check_points/EVATiny/EVATiny_15Epoch.pth\"))\n",
    "\n",
    "    df = pd.read_csv(\"/aif/Dataset/Fashion-How24_sub1_test.csv\")  # 제출 시 데이터 경로 준수. /aif/ 아래에 있습니다.\n",
    "    val_dataset = ETRIDataset_emo(\n",
    "        df, base_path=\"/aif/Dataset/test/\"\n",
    "    )  # 제출 시 데이터 경로 준수. /aif/ 아래에 있습니다.\n",
    "    val_dataloader = torch.utils.data.DataLoader(\n",
    "        val_dataset, batch_size=64, shuffle=False, num_workers=0\n",
    "    )  # 반드시 shuffle=False\n",
    "\n",
    "    daily_pred_list = np.array([])\n",
    "    gender_pred_list = np.array([])\n",
    "    embel_pred_list = np.array([])\n",
    "\n",
    "    for j, sample in tqdm(enumerate(val_dataloader)):\n",
    "        for key in sample:\n",
    "            sample[key] = sample[key].to(DEVICE)\n",
    "        out_daily, out_gender, out_embel = net(sample)\n",
    "\n",
    "        daily_pred = out_daily\n",
    "        _, daily_indx = daily_pred.max(1)\n",
    "        daily_pred_list = np.concatenate([daily_pred_list, daily_indx.cpu()], axis=0)\n",
    "\n",
    "        gender_pred = out_gender\n",
    "        _, gender_indx = gender_pred.max(1)\n",
    "        gender_pred_list = np.concatenate([gender_pred_list, gender_indx.cpu()], axis=0)\n",
    "\n",
    "        embel_pred = out_embel\n",
    "        _, embel_indx = embel_pred.max(1)\n",
    "        embel_pred_list = np.concatenate([embel_pred_list, embel_indx.cpu()], axis=0)\n",
    "\n",
    "    # 예측 결과를 dataframe으로 변환한 다음 함수의 결과로 return합니다.\n",
    "    # 'image_name', 'daily', 'gender', 'embel'의 컬럼명과 image_name의 샘플 순서를 지켜주시기 바랍니다.\n",
    "    # Baseline이 아닌 다른 모델을 사용하는 경우에도 같은 형식의 dataframe으로 return할 수 있도록 합니다.\n",
    "    out = pd.DataFrame(\n",
    "        {\"image_name\": df[\"image_name\"], \"daily\": daily_pred_list, \"gender\": gender_pred_list, \"embel\": embel_pred_list}\n",
    "    )\n",
    "\n",
    "    return out  # 반드시 추론결과를 return"
   ]
  },
  {
   "cell_type": "markdown",
   "id": "9cd9ff6a",
   "metadata": {},
   "source": [
    "### 3. submit() 함수로 wrapping\n",
    "#### 반드시 아래와 같이 submit() 이라는 함수로 위에 정의된 etri_task1_submit 함수를 wrapping해야 합니다."
   ]
  },
  {
   "cell_type": "code",
   "execution_count": 6,
   "id": "8462eb5f",
   "metadata": {},
   "outputs": [],
   "source": [
    "def submit():\n",
    "    return etri_task1_submit"
   ]
  },
  {
   "cell_type": "markdown",
   "id": "f1f41b0e",
   "metadata": {},
   "source": [
    "### 4. if name == \"main\" 조건문을 이용한 제출 수행\n",
    "#### 아래와 같이 if __name__ == \"__main__\" 구문 내에서 제출 함수가 실행되게끔 합니다.\n",
    "#### ※ task별, 참가자별로 key가 다릅니다. 잘못 입력하지 않도록 유의바랍니다.\n",
    "- key는 각팀 팀장분에게 메일로 전달된 안내네서 task별로 확인하실 수 있습니다."
   ]
  },
  {
   "cell_type": "code",
   "execution_count": 8,
   "id": "b3468396",
   "metadata": {},
   "outputs": [
    {
     "name": "stdout",
     "output_type": "stream",
     "text": [
      "file : task.py\n",
      "python\n"
     ]
    },
    {
     "ename": "KeyboardInterrupt",
     "evalue": "",
     "output_type": "error",
     "traceback": [
      "\u001b[1;31m---------------------------------------------------------------------------\u001b[0m",
      "\u001b[1;31mKeyboardInterrupt\u001b[0m                         Traceback (most recent call last)",
      "Cell \u001b[1;32mIn[8], line 6\u001b[0m\n\u001b[0;32m      3\u001b[0m t \u001b[38;5;241m=\u001b[39m time\u001b[38;5;241m.\u001b[39mtime()\n\u001b[0;32m      4\u001b[0m \u001b[38;5;28;01mif\u001b[39;00m \u001b[38;5;18m__name__\u001b[39m \u001b[38;5;241m==\u001b[39m \u001b[38;5;124m\"\u001b[39m\u001b[38;5;124m__main__\u001b[39m\u001b[38;5;124m\"\u001b[39m:\n\u001b[0;32m      5\u001b[0m     \u001b[38;5;66;03m#-----------------------------------------------------#\u001b[39;00m\n\u001b[1;32m----> 6\u001b[0m     \u001b[43maif\u001b[49m\u001b[38;5;241;43m.\u001b[39;49m\u001b[43msubmit\u001b[49m\u001b[43m(\u001b[49m\u001b[43mmodel_name\u001b[49m\u001b[38;5;241;43m=\u001b[39;49m\u001b[38;5;124;43m\"\u001b[39;49m\u001b[38;5;124;43mbaseline_task1\u001b[39;49m\u001b[38;5;124;43m\"\u001b[39;49m\u001b[43m,\u001b[49m\u001b[43m             \u001b[49m\u001b[38;5;66;43;03m# 본인의 모델명 입력(버전 관리에 용이하게끔 편의에 맞게 지정합니다)\u001b[39;49;00m\n\u001b[0;32m      7\u001b[0m \u001b[43m               \u001b[49m\u001b[43mkey\u001b[49m\u001b[38;5;241;43m=\u001b[39;49m\u001b[38;5;124;43m\"\u001b[39;49m\u001b[38;5;124;43m78587602-4e70-41db-b4cc-bd0e952d8985\u001b[39;49m\u001b[38;5;124;43m\"\u001b[39;49m\u001b[43m,\u001b[49m\u001b[43m                                   \u001b[49m\u001b[38;5;66;43;03m# 본인의 task key 입력\u001b[39;49;00m\n\u001b[0;32m      8\u001b[0m \u001b[43m               \u001b[49m\u001b[43mfunc\u001b[49m\u001b[38;5;241;43m=\u001b[39;49m\u001b[43msubmit\u001b[49m\u001b[43m                                 \u001b[49m\u001b[38;5;66;43;03m# 3.에서 wrapping한 submit function\u001b[39;49;00m\n\u001b[0;32m      9\u001b[0m \u001b[43m               \u001b[49m\u001b[43m)\u001b[49m\n\u001b[0;32m     10\u001b[0m     \u001b[38;5;66;03m#-----------------------------------------------------#\u001b[39;00m\n\u001b[0;32m     11\u001b[0m     \u001b[38;5;28mprint\u001b[39m(time\u001b[38;5;241m.\u001b[39mtime() \u001b[38;5;241m-\u001b[39m t)\n",
      "File \u001b[1;32mc:\\workspace\\FASHION-HOW\\.venv\\Lib\\site-packages\\aifactory\\score.py:65\u001b[0m, in \u001b[0;36msubmit\u001b[1;34m(model_name, key, func)\u001b[0m\n\u001b[0;32m     62\u001b[0m   main_name \u001b[38;5;241m=\u001b[39m \u001b[38;5;124m\"\u001b[39m\u001b[38;5;124mtask.py\u001b[39m\u001b[38;5;124m\"\u001b[39m\n\u001b[0;32m     64\u001b[0m \u001b[38;5;28mprint\u001b[39m(\u001b[38;5;124m\"\u001b[39m\u001b[38;5;124mfile : \u001b[39m\u001b[38;5;132;01m{0}\u001b[39;00m\u001b[38;5;124m\"\u001b[39m\u001b[38;5;241m.\u001b[39mformat(main_name))\n\u001b[1;32m---> 65\u001b[0m \u001b[43mmake_zip\u001b[49m\u001b[43m(\u001b[49m\u001b[43mmain_name\u001b[49m\u001b[43m)\u001b[49m\n\u001b[0;32m     67\u001b[0m file_size \u001b[38;5;241m=\u001b[39m os\u001b[38;5;241m.\u001b[39mpath\u001b[38;5;241m.\u001b[39mgetsize(\u001b[38;5;124m\"\u001b[39m\u001b[38;5;124m./aif.zip\u001b[39m\u001b[38;5;124m\"\u001b[39m)\n\u001b[0;32m     68\u001b[0m gsize \u001b[38;5;241m=\u001b[39m file_size \u001b[38;5;241m/\u001b[39m \u001b[38;5;241m1024\u001b[39m \u001b[38;5;241m*\u001b[39m\u001b[38;5;241m*\u001b[39m \u001b[38;5;241m3\u001b[39m\n",
      "File \u001b[1;32mc:\\workspace\\FASHION-HOW\\.venv\\Lib\\site-packages\\aifactory\\score.py:54\u001b[0m, in \u001b[0;36mmake_zip\u001b[1;34m(main_name)\u001b[0m\n\u001b[0;32m     52\u001b[0m   \u001b[38;5;28;01mfor\u001b[39;00m file \u001b[38;5;129;01min\u001b[39;00m files:       \n\u001b[0;32m     53\u001b[0m     \u001b[38;5;28;01mif\u001b[39;00m \u001b[38;5;124m\"\u001b[39m\u001b[38;5;124mtrain\u001b[39m\u001b[38;5;124m\"\u001b[39m \u001b[38;5;129;01mnot\u001b[39;00m \u001b[38;5;129;01min\u001b[39;00m path \u001b[38;5;129;01mand\u001b[39;00m \u001b[38;5;124m\"\u001b[39m\u001b[38;5;124mdrive\u001b[39m\u001b[38;5;124m\"\u001b[39m \u001b[38;5;129;01mnot\u001b[39;00m \u001b[38;5;129;01min\u001b[39;00m path \u001b[38;5;129;01mand\u001b[39;00m \u001b[38;5;124m\"\u001b[39m\u001b[38;5;124msample_data\u001b[39m\u001b[38;5;124m\"\u001b[39m \u001b[38;5;129;01mnot\u001b[39;00m \u001b[38;5;129;01min\u001b[39;00m path \u001b[38;5;129;01mand\u001b[39;00m \u001b[38;5;124m\"\u001b[39m\u001b[38;5;124maif.zip\u001b[39m\u001b[38;5;124m\"\u001b[39m \u001b[38;5;129;01mnot\u001b[39;00m \u001b[38;5;129;01min\u001b[39;00m file :      \n\u001b[1;32m---> 54\u001b[0m       \u001b[43mzip_file\u001b[49m\u001b[38;5;241;43m.\u001b[39;49m\u001b[43mwrite\u001b[49m\u001b[43m(\u001b[49m\u001b[43mos\u001b[49m\u001b[38;5;241;43m.\u001b[39;49m\u001b[43mpath\u001b[49m\u001b[38;5;241;43m.\u001b[39;49m\u001b[43mjoin\u001b[49m\u001b[43m(\u001b[49m\u001b[43mpath\u001b[49m\u001b[43m,\u001b[49m\u001b[43m \u001b[49m\u001b[43mfile\u001b[49m\u001b[43m)\u001b[49m\u001b[43m,\u001b[49m\u001b[43m \u001b[49m\u001b[43mcompress_type\u001b[49m\u001b[38;5;241;43m=\u001b[39;49m\u001b[43mzipfile\u001b[49m\u001b[38;5;241;43m.\u001b[39;49m\u001b[43mZIP_DEFLATED\u001b[49m\u001b[43m)\u001b[49m\n\u001b[0;32m     55\u001b[0m zip_file\u001b[38;5;241m.\u001b[39mclose()\n",
      "File \u001b[1;32m~\\AppData\\Local\\Programs\\Python\\Python311\\Lib\\zipfile.py:1806\u001b[0m, in \u001b[0;36mZipFile.write\u001b[1;34m(self, filename, arcname, compress_type, compresslevel)\u001b[0m\n\u001b[0;32m   1803\u001b[0m     zinfo\u001b[38;5;241m.\u001b[39m_compresslevel \u001b[38;5;241m=\u001b[39m \u001b[38;5;28mself\u001b[39m\u001b[38;5;241m.\u001b[39mcompresslevel\n\u001b[0;32m   1805\u001b[0m \u001b[38;5;28;01mwith\u001b[39;00m \u001b[38;5;28mopen\u001b[39m(filename, \u001b[38;5;124m\"\u001b[39m\u001b[38;5;124mrb\u001b[39m\u001b[38;5;124m\"\u001b[39m) \u001b[38;5;28;01mas\u001b[39;00m src, \u001b[38;5;28mself\u001b[39m\u001b[38;5;241m.\u001b[39mopen(zinfo, \u001b[38;5;124m'\u001b[39m\u001b[38;5;124mw\u001b[39m\u001b[38;5;124m'\u001b[39m) \u001b[38;5;28;01mas\u001b[39;00m dest:\n\u001b[1;32m-> 1806\u001b[0m     \u001b[43mshutil\u001b[49m\u001b[38;5;241;43m.\u001b[39;49m\u001b[43mcopyfileobj\u001b[49m\u001b[43m(\u001b[49m\u001b[43msrc\u001b[49m\u001b[43m,\u001b[49m\u001b[43m \u001b[49m\u001b[43mdest\u001b[49m\u001b[43m,\u001b[49m\u001b[43m \u001b[49m\u001b[38;5;241;43m1024\u001b[39;49m\u001b[38;5;241;43m*\u001b[39;49m\u001b[38;5;241;43m8\u001b[39;49m\u001b[43m)\u001b[49m\n",
      "File \u001b[1;32m~\\AppData\\Local\\Programs\\Python\\Python311\\Lib\\shutil.py:200\u001b[0m, in \u001b[0;36mcopyfileobj\u001b[1;34m(fsrc, fdst, length)\u001b[0m\n\u001b[0;32m    198\u001b[0m \u001b[38;5;28;01mif\u001b[39;00m \u001b[38;5;129;01mnot\u001b[39;00m buf:\n\u001b[0;32m    199\u001b[0m     \u001b[38;5;28;01mbreak\u001b[39;00m\n\u001b[1;32m--> 200\u001b[0m \u001b[43mfdst_write\u001b[49m\u001b[43m(\u001b[49m\u001b[43mbuf\u001b[49m\u001b[43m)\u001b[49m\n",
      "File \u001b[1;32m~\\AppData\\Local\\Programs\\Python\\Python311\\Lib\\zipfile.py:1169\u001b[0m, in \u001b[0;36m_ZipWriteFile.write\u001b[1;34m(self, data)\u001b[0m\n\u001b[0;32m   1167\u001b[0m \u001b[38;5;28mself\u001b[39m\u001b[38;5;241m.\u001b[39m_crc \u001b[38;5;241m=\u001b[39m crc32(data, \u001b[38;5;28mself\u001b[39m\u001b[38;5;241m.\u001b[39m_crc)\n\u001b[0;32m   1168\u001b[0m \u001b[38;5;28;01mif\u001b[39;00m \u001b[38;5;28mself\u001b[39m\u001b[38;5;241m.\u001b[39m_compressor:\n\u001b[1;32m-> 1169\u001b[0m     data \u001b[38;5;241m=\u001b[39m \u001b[38;5;28;43mself\u001b[39;49m\u001b[38;5;241;43m.\u001b[39;49m\u001b[43m_compressor\u001b[49m\u001b[38;5;241;43m.\u001b[39;49m\u001b[43mcompress\u001b[49m\u001b[43m(\u001b[49m\u001b[43mdata\u001b[49m\u001b[43m)\u001b[49m\n\u001b[0;32m   1170\u001b[0m     \u001b[38;5;28mself\u001b[39m\u001b[38;5;241m.\u001b[39m_compress_size \u001b[38;5;241m+\u001b[39m\u001b[38;5;241m=\u001b[39m \u001b[38;5;28mlen\u001b[39m(data)\n\u001b[0;32m   1171\u001b[0m \u001b[38;5;28mself\u001b[39m\u001b[38;5;241m.\u001b[39m_fileobj\u001b[38;5;241m.\u001b[39mwrite(data)\n",
      "\u001b[1;31mKeyboardInterrupt\u001b[0m: "
     ]
    }
   ],
   "source": [
    "import aifactory.score as aif\n",
    "import time\n",
    "t = time.time()\n",
    "if __name__ == \"__main__\":\n",
    "    #-----------------------------------------------------#\n",
    "    aif.submit(model_name=\"baseline_task1\",             # 본인의 모델명 입력(버전 관리에 용이하게끔 편의에 맞게 지정합니다)\n",
    "               key=\"78587602-4e70-41db-b4cc-bd0e952d8985\",                                   # 본인의 task key 입력\n",
    "               func=submit                                 # 3.에서 wrapping한 submit function\n",
    "               )\n",
    "    #-----------------------------------------------------#\n",
    "    print(time.time() - t)"
   ]
  },
  {
   "cell_type": "code",
   "execution_count": null,
   "id": "07e41e95",
   "metadata": {},
   "outputs": [],
   "source": []
  }
 ],
 "metadata": {
  "kernelspec": {
   "display_name": "Python 3 (ipykernel)",
   "language": "python",
   "name": "python3"
  },
  "language_info": {
   "codemirror_mode": {
    "name": "ipython",
    "version": 3
   },
   "file_extension": ".py",
   "mimetype": "text/x-python",
   "name": "python",
   "nbconvert_exporter": "python",
   "pygments_lexer": "ipython3",
   "version": "3.11.8"
  }
 },
 "nbformat": 4,
 "nbformat_minor": 5
}
